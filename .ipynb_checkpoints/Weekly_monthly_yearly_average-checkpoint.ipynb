{
 "cells": [
  {
   "cell_type": "code",
   "execution_count": 2,
   "metadata": {},
   "outputs": [],
   "source": [
    "from dash.dependencies import Input, Output\n",
    "from plotly import graph_objs as go\n",
    "from plotly.graph_objs import *\n",
    "from datetime import datetime as dt\n",
    "\n",
    "import dash\n",
    "import dash_core_components as dcc\n",
    "import dash_html_components as html\n",
    "\n",
    "import pandas as pd\n",
    "import os\n",
    "import numpy as np\n",
    "import h5py\n",
    "import seaborn as sns\n",
    "import matplotlib.pyplot as plt\n",
    "import pickle\n",
    "import shapefile\n",
    "import descartes\n",
    "from shapely.geometry import Point\n",
    "import gmaps\n",
    "import gmaps.datasets\n",
    "import geopandas\n",
    "import plotly.graph_objects as go # or plotly.express as px\n",
    "import plotly.express as px\n",
    "from dash.dependencies import Input, Output, State\n",
    "from dash.exceptions import PreventUpdate\n",
    "import plotly.figure_factory as ff\n",
    "import re\n",
    "from datetime import datetime as dt\n",
    "import json\n",
    "import dash_bootstrap_components as dbc\n",
    "\n",
    "from urllib.request import urlopen\n",
    "with urlopen('https://raw.githubusercontent.com/plotly/datasets/master/geojson-counties-fips.json') as response:\n",
    "     counties = json.load(response)"
   ]
  },
  {
   "cell_type": "code",
   "execution_count": 3,
   "metadata": {},
   "outputs": [
    {
     "name": "stderr",
     "output_type": "stream",
     "text": [
      "/Users/jiaqilu/opt/anaconda3/lib/python3.7/site-packages/IPython/core/interactiveshell.py:3063: DtypeWarning: Columns (2,9) have mixed types.Specify dtype option on import or set low_memory=False.\n",
      "  interactivity=interactivity, compiler=compiler, result=result)\n"
     ]
    }
   ],
   "source": [
    "df = pd.read_csv('/Users/jiaqilu/Desktop/ENV19/data_visualization/GHC_sample_waterquality.csv')"
   ]
  },
  {
   "cell_type": "code",
   "execution_count": 4,
   "metadata": {
    "scrolled": true
   },
   "outputs": [],
   "source": [
    "df = df.loc[df['var'] == 'XCO2',:]\n",
    "df = df[['date','value','county','fips','var']]"
   ]
  },
  {
   "cell_type": "code",
   "execution_count": 7,
   "metadata": {
    "scrolled": true
   },
   "outputs": [
    {
     "name": "stdout",
     "output_type": "stream",
     "text": [
      "Dash is running on http://127.0.0.1:8050/\n",
      "\n",
      "Dash is running on http://127.0.0.1:8050/\n",
      "\n",
      "Dash is running on http://127.0.0.1:8050/\n",
      "\n",
      " Warning: This is a development server. Do not use app.run_server\n",
      " Warning: This is a development server. Do not use app.run_server\n",
      " Warning: This is a development server. Do not use app.run_server\n",
      " in production, use a production WSGI server like gunicorn instead.\n",
      "\n",
      " in production, use a production WSGI server like gunicorn instead.\n",
      "\n",
      " in production, use a production WSGI server like gunicorn instead.\n",
      "\n",
      " * Serving Flask app \"__main__\" (lazy loading)\n",
      " * Environment: production\n",
      "   WARNING: This is a development server. Do not use it in a production deployment.\n",
      "   Use a production WSGI server instead.\n",
      " * Debug mode: off\n"
     ]
    },
    {
     "name": "stderr",
     "output_type": "stream",
     "text": [
      " * Running on http://127.0.0.1:8050/ (Press CTRL+C to quit)\n",
      "127.0.0.1 - - [24/Jul/2020 14:44:55] \"\u001b[37mGET / HTTP/1.1\u001b[0m\" 200 -\n",
      "127.0.0.1 - - [24/Jul/2020 14:44:56] \"\u001b[37mGET /_dash-layout HTTP/1.1\u001b[0m\" 200 -\n",
      "127.0.0.1 - - [24/Jul/2020 14:44:56] \"\u001b[37mGET /_dash-dependencies HTTP/1.1\u001b[0m\" 200 -\n"
     ]
    },
    {
     "name": "stdout",
     "output_type": "stream",
     "text": [
      "           date       value     county     fips   var  week         avg\n",
      "0    2015-01-04  397.195098      Bowie  48037.0  XCO2     1  402.672447\n",
      "1    2015-01-04  396.539072       Cass  48067.0  XCO2     1  401.866835\n",
      "2    2015-01-04  396.734640   Harrison  48203.0  XCO2     1  404.414976\n",
      "3    2015-01-04  396.369382     Marion  48315.0  XCO2     1  402.067393\n",
      "4    2015-01-04  395.762778     Morris  48343.0  XCO2     1  405.708273\n",
      "...         ...         ...        ...      ...   ...   ...         ...\n",
      "1774 2016-02-04  402.194975   McMullen  48311.0  XCO2     5  407.764113\n",
      "1916 2016-02-22  396.005300     Dallas  48113.0  XCO2     8  404.462367\n",
      "2231 2016-04-15  401.673337     Scurry  48415.0  XCO2    15  404.443159\n",
      "3102 2016-10-03  398.335460     Brazos  48041.0  XCO2    40  401.643857\n",
      "4005 2017-03-26  404.121492  Childress  48075.0  XCO2    12  408.954055\n",
      "\n",
      "[254 rows x 7 columns]\n"
     ]
    },
    {
     "name": "stderr",
     "output_type": "stream",
     "text": [
      "127.0.0.1 - - [24/Jul/2020 14:44:59] \"\u001b[37mPOST /_dash-update-component HTTP/1.1\u001b[0m\" 200 -\n"
     ]
    },
    {
     "name": "stdout",
     "output_type": "stream",
     "text": [
      "(129, 6)\n",
      "           date       value      county     fips   var  week         avg\n",
      "7731 2019-06-02  402.967649   Armstrong  48011.0  XCO2    22  405.503127\n",
      "7732 2019-06-02  409.562145     Briscoe  48045.0  XCO2    22  408.431836\n",
      "7733 2019-06-02  409.450633      Carson  48065.0  XCO2    22  409.450633\n",
      "7734 2019-06-02  409.339700      Concho  48095.0  XCO2    22  409.339700\n",
      "7735 2019-06-02  412.640539     Dickens  48125.0  XCO2    22  410.028580\n",
      "...         ...         ...         ...      ...   ...   ...         ...\n",
      "7855 2019-06-29  405.019173  Palo Pinto  48363.0  XCO2    26  405.019173\n",
      "7856 2019-06-29  405.458025      Parker  48367.0  XCO2    26  405.458025\n",
      "7857 2019-06-29  405.084934   Somervell  48425.0  XCO2    26  405.084934\n",
      "7858 2019-06-29  410.489175     Wharton  48481.0  XCO2    26  410.489175\n",
      "7859 2019-06-29  407.198197     Wichita  48485.0  XCO2    26  407.198197\n",
      "\n",
      "[105 rows x 7 columns]\n"
     ]
    },
    {
     "name": "stderr",
     "output_type": "stream",
     "text": [
      "127.0.0.1 - - [24/Jul/2020 14:45:05] \"\u001b[37mPOST /_dash-update-component HTTP/1.1\u001b[0m\" 200 -\n"
     ]
    },
    {
     "name": "stdout",
     "output_type": "stream",
     "text": [
      "(1825, 6)\n",
      "           date       value    county     fips   var  week         avg\n",
      "7118 2019-01-02  406.844530    Bailey  48017.0  XCO2     1  408.093084\n",
      "7119 2019-01-02  405.813491   Cochran  48079.0  XCO2     1  408.702085\n",
      "7120 2019-01-02  407.279575    Parmer  48369.0  XCO2     1  408.394981\n",
      "7121 2019-01-03  405.443685    Reagan  48383.0  XCO2     1  408.838207\n",
      "7122 2019-01-04  406.791924  Anderson  48001.0  XCO2     1  408.060134\n",
      "...         ...         ...       ...      ...   ...   ...         ...\n",
      "8515 2019-10-21  406.772307   Grayson  48181.0  XCO2    43  406.772307\n",
      "8690 2019-11-15  408.511057  Angelina  48005.0  XCO2    46  408.511057\n",
      "8692 2019-11-15  409.211294  Franklin  48159.0  XCO2    46  409.211294\n",
      "8694 2019-11-15  406.298433    Hardin  48199.0  XCO2    46  406.298433\n",
      "8705 2019-11-15  407.692922     Tyler  48457.0  XCO2    46  407.692922\n",
      "\n",
      "[247 rows x 7 columns]\n"
     ]
    },
    {
     "name": "stderr",
     "output_type": "stream",
     "text": [
      "127.0.0.1 - - [24/Jul/2020 14:45:10] \"\u001b[37mPOST /_dash-update-component HTTP/1.1\u001b[0m\" 200 -\n"
     ]
    },
    {
     "name": "stdout",
     "output_type": "stream",
     "text": [
      "           date       value     county     fips   var  week         avg\n",
      "0    2015-01-04  397.195098      Bowie  48037.0  XCO2     1  402.672447\n",
      "1    2015-01-04  396.539072       Cass  48067.0  XCO2     1  401.866835\n",
      "2    2015-01-04  396.734640   Harrison  48203.0  XCO2     1  404.414976\n",
      "3    2015-01-04  396.369382     Marion  48315.0  XCO2     1  402.067393\n",
      "4    2015-01-04  395.762778     Morris  48343.0  XCO2     1  405.708273\n",
      "...         ...         ...        ...      ...   ...   ...         ...\n",
      "1774 2016-02-04  402.194975   McMullen  48311.0  XCO2     5  407.764113\n",
      "1916 2016-02-22  396.005300     Dallas  48113.0  XCO2     8  404.462367\n",
      "2231 2016-04-15  401.673337     Scurry  48415.0  XCO2    15  404.443159\n",
      "3102 2016-10-03  398.335460     Brazos  48041.0  XCO2    40  401.643857\n",
      "4005 2017-03-26  404.121492  Childress  48075.0  XCO2    12  408.954055\n",
      "\n",
      "[254 rows x 7 columns]\n"
     ]
    },
    {
     "name": "stderr",
     "output_type": "stream",
     "text": [
      "127.0.0.1 - - [24/Jul/2020 14:45:16] \"\u001b[37mPOST /_dash-update-component HTTP/1.1\u001b[0m\" 200 -\n"
     ]
    },
    {
     "name": "stdout",
     "output_type": "stream",
     "text": [
      "(1825, 6)\n",
      "           date       value    county     fips   var  week         avg\n",
      "7118 2019-01-02  406.844530    Bailey  48017.0  XCO2     1  408.093084\n",
      "7119 2019-01-02  405.813491   Cochran  48079.0  XCO2     1  408.702085\n",
      "7120 2019-01-02  407.279575    Parmer  48369.0  XCO2     1  408.394981\n",
      "7121 2019-01-03  405.443685    Reagan  48383.0  XCO2     1  408.838207\n",
      "7122 2019-01-04  406.791924  Anderson  48001.0  XCO2     1  408.060134\n",
      "...         ...         ...       ...      ...   ...   ...         ...\n",
      "8515 2019-10-21  406.772307   Grayson  48181.0  XCO2    43  406.772307\n",
      "8690 2019-11-15  408.511057  Angelina  48005.0  XCO2    46  408.511057\n",
      "8692 2019-11-15  409.211294  Franklin  48159.0  XCO2    46  409.211294\n",
      "8694 2019-11-15  406.298433    Hardin  48199.0  XCO2    46  406.298433\n",
      "8705 2019-11-15  407.692922     Tyler  48457.0  XCO2    46  407.692922\n",
      "\n",
      "[247 rows x 7 columns]\n"
     ]
    },
    {
     "name": "stderr",
     "output_type": "stream",
     "text": [
      "127.0.0.1 - - [24/Jul/2020 14:45:22] \"\u001b[37mPOST /_dash-update-component HTTP/1.1\u001b[0m\" 200 -\n"
     ]
    },
    {
     "name": "stdout",
     "output_type": "stream",
     "text": [
      "(17, 6)\n",
      "           date       value      county     fips   var  week         avg\n",
      "7843 2019-06-24  410.098745  Jeff Davis  48243.0  XCO2    26  410.098745\n",
      "7844 2019-06-26  408.390411        Gray  48179.0  XCO2    26  408.390411\n",
      "7845 2019-06-29  406.586750      Archer  48009.0  XCO2    26  406.586750\n",
      "7846 2019-06-29  408.097625        Bell  48027.0  XCO2    26  408.097625\n",
      "7847 2019-06-29  404.876245      Bosque  48035.0  XCO2    26  404.876245\n",
      "7848 2019-06-29  404.358684        Clay  48077.0  XCO2    26  404.358684\n",
      "7849 2019-06-29  408.788037    Colorado  48089.0  XCO2    26  408.788037\n",
      "7850 2019-06-29  404.077131     Coryell  48099.0  XCO2    26  404.077131\n",
      "7851 2019-06-29  404.683195        Hood  48221.0  XCO2    26  404.683195\n",
      "7852 2019-06-29  405.570279        Jack  48237.0  XCO2    26  405.570279\n",
      "7853 2019-06-29  407.216818         Lee  48287.0  XCO2    26  407.216818\n",
      "7854 2019-06-29  404.784815    McLennan  48309.0  XCO2    26  404.784815\n",
      "7855 2019-06-29  405.019173  Palo Pinto  48363.0  XCO2    26  405.019173\n",
      "7856 2019-06-29  405.458025      Parker  48367.0  XCO2    26  405.458025\n",
      "7857 2019-06-29  405.084934   Somervell  48425.0  XCO2    26  405.084934\n",
      "7858 2019-06-29  410.489175     Wharton  48481.0  XCO2    26  410.489175\n",
      "7859 2019-06-29  407.198197     Wichita  48485.0  XCO2    26  407.198197\n"
     ]
    },
    {
     "name": "stderr",
     "output_type": "stream",
     "text": [
      "127.0.0.1 - - [24/Jul/2020 14:45:28] \"\u001b[37mPOST /_dash-update-component HTTP/1.1\u001b[0m\" 200 -\n"
     ]
    },
    {
     "name": "stdout",
     "output_type": "stream",
     "text": [
      "(129, 6)\n",
      "           date       value      county     fips   var  week         avg\n",
      "7731 2019-06-02  402.967649   Armstrong  48011.0  XCO2    22  405.503127\n",
      "7732 2019-06-02  409.562145     Briscoe  48045.0  XCO2    22  408.431836\n",
      "7733 2019-06-02  409.450633      Carson  48065.0  XCO2    22  409.450633\n",
      "7734 2019-06-02  409.339700      Concho  48095.0  XCO2    22  409.339700\n",
      "7735 2019-06-02  412.640539     Dickens  48125.0  XCO2    22  410.028580\n",
      "...         ...         ...         ...      ...   ...   ...         ...\n",
      "7855 2019-06-29  405.019173  Palo Pinto  48363.0  XCO2    26  405.019173\n",
      "7856 2019-06-29  405.458025      Parker  48367.0  XCO2    26  405.458025\n",
      "7857 2019-06-29  405.084934   Somervell  48425.0  XCO2    26  405.084934\n",
      "7858 2019-06-29  410.489175     Wharton  48481.0  XCO2    26  410.489175\n",
      "7859 2019-06-29  407.198197     Wichita  48485.0  XCO2    26  407.198197\n",
      "\n",
      "[105 rows x 7 columns]\n"
     ]
    },
    {
     "name": "stderr",
     "output_type": "stream",
     "text": [
      "127.0.0.1 - - [24/Jul/2020 14:45:33] \"\u001b[37mPOST /_dash-update-component HTTP/1.1\u001b[0m\" 200 -\n"
     ]
    },
    {
     "name": "stdout",
     "output_type": "stream",
     "text": [
      "           date       value     county     fips   var  week         avg\n",
      "0    2015-01-04  397.195098      Bowie  48037.0  XCO2     1  402.672447\n",
      "1    2015-01-04  396.539072       Cass  48067.0  XCO2     1  401.866835\n",
      "2    2015-01-04  396.734640   Harrison  48203.0  XCO2     1  404.414976\n",
      "3    2015-01-04  396.369382     Marion  48315.0  XCO2     1  402.067393\n",
      "4    2015-01-04  395.762778     Morris  48343.0  XCO2     1  405.708273\n",
      "...         ...         ...        ...      ...   ...   ...         ...\n",
      "1774 2016-02-04  402.194975   McMullen  48311.0  XCO2     5  407.764113\n",
      "1916 2016-02-22  396.005300     Dallas  48113.0  XCO2     8  404.462367\n",
      "2231 2016-04-15  401.673337     Scurry  48415.0  XCO2    15  404.443159\n",
      "3102 2016-10-03  398.335460     Brazos  48041.0  XCO2    40  401.643857\n",
      "4005 2017-03-26  404.121492  Childress  48075.0  XCO2    12  408.954055\n",
      "\n",
      "[254 rows x 7 columns]\n"
     ]
    },
    {
     "name": "stderr",
     "output_type": "stream",
     "text": [
      "127.0.0.1 - - [24/Jul/2020 14:45:39] \"\u001b[37mPOST /_dash-update-component HTTP/1.1\u001b[0m\" 200 -\n"
     ]
    },
    {
     "name": "stdout",
     "output_type": "stream",
     "text": [
      "(129, 6)\n",
      "           date       value      county     fips   var  week         avg\n",
      "7731 2019-06-02  402.967649   Armstrong  48011.0  XCO2    22  405.503127\n",
      "7732 2019-06-02  409.562145     Briscoe  48045.0  XCO2    22  408.431836\n",
      "7733 2019-06-02  409.450633      Carson  48065.0  XCO2    22  409.450633\n",
      "7734 2019-06-02  409.339700      Concho  48095.0  XCO2    22  409.339700\n",
      "7735 2019-06-02  412.640539     Dickens  48125.0  XCO2    22  410.028580\n",
      "...         ...         ...         ...      ...   ...   ...         ...\n",
      "7855 2019-06-29  405.019173  Palo Pinto  48363.0  XCO2    26  405.019173\n",
      "7856 2019-06-29  405.458025      Parker  48367.0  XCO2    26  405.458025\n",
      "7857 2019-06-29  405.084934   Somervell  48425.0  XCO2    26  405.084934\n",
      "7858 2019-06-29  410.489175     Wharton  48481.0  XCO2    26  410.489175\n",
      "7859 2019-06-29  407.198197     Wichita  48485.0  XCO2    26  407.198197\n",
      "\n",
      "[105 rows x 7 columns]\n"
     ]
    },
    {
     "name": "stderr",
     "output_type": "stream",
     "text": [
      "127.0.0.1 - - [24/Jul/2020 14:45:43] \"\u001b[37mPOST /_dash-update-component HTTP/1.1\u001b[0m\" 200 -\n"
     ]
    },
    {
     "name": "stdout",
     "output_type": "stream",
     "text": [
      "(129, 6)\n",
      "           date       value      county     fips   var  week         avg\n",
      "7731 2019-06-02  402.967649   Armstrong  48011.0  XCO2    22  405.503127\n",
      "7732 2019-06-02  409.562145     Briscoe  48045.0  XCO2    22  408.431836\n",
      "7733 2019-06-02  409.450633      Carson  48065.0  XCO2    22  409.450633\n",
      "7734 2019-06-02  409.339700      Concho  48095.0  XCO2    22  409.339700\n",
      "7735 2019-06-02  412.640539     Dickens  48125.0  XCO2    22  410.028580\n",
      "...         ...         ...         ...      ...   ...   ...         ...\n",
      "7855 2019-06-29  405.019173  Palo Pinto  48363.0  XCO2    26  405.019173\n",
      "7856 2019-06-29  405.458025      Parker  48367.0  XCO2    26  405.458025\n",
      "7857 2019-06-29  405.084934   Somervell  48425.0  XCO2    26  405.084934\n",
      "7858 2019-06-29  410.489175     Wharton  48481.0  XCO2    26  410.489175\n",
      "7859 2019-06-29  407.198197     Wichita  48485.0  XCO2    26  407.198197\n",
      "\n",
      "[105 rows x 7 columns]\n"
     ]
    },
    {
     "name": "stderr",
     "output_type": "stream",
     "text": [
      "127.0.0.1 - - [24/Jul/2020 14:45:47] \"\u001b[37mPOST /_dash-update-component HTTP/1.1\u001b[0m\" 200 -\n"
     ]
    },
    {
     "name": "stdout",
     "output_type": "stream",
     "text": [
      "(48, 6)\n",
      "           date       value         county     fips   var  week         avg\n",
      "7777 2019-06-11  408.038604      Armstrong  48011.0  XCO2    24  408.038604\n",
      "7778 2019-06-11  407.301528        Briscoe  48045.0  XCO2    24  407.301528\n",
      "7779 2019-06-11  409.976671           Coke  48081.0  XCO2    24  409.976671\n",
      "7780 2019-06-11  409.359186         Crosby  48107.0  XCO2    24  409.359186\n",
      "7781 2019-06-11  409.444092          Floyd  48153.0  XCO2    24  409.444092\n",
      "7782 2019-06-11  408.962200          Garza  48169.0  XCO2    24  408.962200\n",
      "7783 2019-06-11  407.732980           Kent  48263.0  XCO2    24  407.732980\n",
      "7784 2019-06-11  410.531279       Mitchell  48335.0  XCO2    24  410.531279\n",
      "7785 2019-06-11  406.281772          Moore  48341.0  XCO2    24  406.281772\n",
      "7786 2019-06-11  407.235792         Potter  48375.0  XCO2    24  407.235792\n",
      "7787 2019-06-11  407.905893        Randall  48381.0  XCO2    24  407.905893\n",
      "7788 2019-06-11  409.813492         Scurry  48415.0  XCO2    24  409.813492\n",
      "7789 2019-06-11  405.318219        Sherman  48421.0  XCO2    24  405.318219\n",
      "7790 2019-06-11  407.548448          Starr  48427.0  XCO2    24  407.548448\n",
      "7791 2019-06-11  407.593456        Swisher  48437.0  XCO2    24  407.593456\n",
      "7792 2019-06-11  408.587193      Tom Green  48451.0  XCO2    24  408.587193\n",
      "7793 2019-06-12  410.934784     Jeff Davis  48243.0  XCO2    24  410.250877\n",
      "7794 2019-06-13  407.264093       Chambers  48071.0  XCO2    24  407.264093\n",
      "7795 2019-06-13  407.935907         Fannin  48147.0  XCO2    24  407.935907\n",
      "7796 2019-06-13  407.636112      Galveston  48167.0  XCO2    24  407.636112\n",
      "7797 2019-06-13  405.627147         Harris  48201.0  XCO2    24  405.627147\n",
      "7798 2019-06-13  407.668622      Henderson  48213.0  XCO2    24  407.668622\n",
      "7799 2019-06-13  410.177789        Hopkins  48223.0  XCO2    24  410.177789\n",
      "7800 2019-06-13  407.047893        Houston  48225.0  XCO2    24  407.047893\n",
      "7801 2019-06-13  409.241029           Hunt  48231.0  XCO2    24  409.241029\n",
      "7802 2019-06-13  405.839029        Liberty  48291.0  XCO2    24  405.839029\n",
      "7803 2019-06-13  405.832710     Montgomery  48339.0  XCO2    24  405.832710\n",
      "7804 2019-06-13  408.892628          Rains  48379.0  XCO2    24  408.892628\n",
      "7805 2019-06-13  407.801034    San Jacinto  48407.0  XCO2    24  407.801034\n",
      "7806 2019-06-13  407.461451        Trinity  48455.0  XCO2    24  407.461451\n",
      "7807 2019-06-13  406.936745      Van Zandt  48467.0  XCO2    24  406.936745\n",
      "7808 2019-06-14  409.229858         Reagan  48383.0  XCO2    24  409.229858\n",
      "7809 2019-06-15  407.555317          Bowie  48037.0  XCO2    24  407.555317\n",
      "7810 2019-06-15  405.942356           Cass  48067.0  XCO2    24  405.942356\n",
      "7811 2019-06-15  406.979919       Harrison  48203.0  XCO2    24  406.979919\n",
      "7812 2019-06-15  410.426554         Jasper  48241.0  XCO2    24  410.426554\n",
      "7814 2019-06-15  406.866204         Marion  48315.0  XCO2    24  406.866204\n",
      "7815 2019-06-15  408.740714         Panola  48365.0  XCO2    24  408.740714\n",
      "7816 2019-06-15  409.404573         Sabine  48403.0  XCO2    24  409.404573\n",
      "7817 2019-06-15  409.502072  San Augustine  48405.0  XCO2    24  409.502072\n",
      "7818 2019-06-15  409.308935         Shelby  48419.0  XCO2    24  409.308935\n",
      "7819 2019-06-16  409.137738       Brewster  48043.0  XCO2    24  409.137738\n",
      "7820 2019-06-16  408.669902         Loving  48301.0  XCO2    24  408.669902\n",
      "7821 2019-06-16  410.351973          Pecos  48371.0  XCO2    24  410.351973\n",
      "7822 2019-06-16  411.841785         Reeves  48389.0  XCO2    24  411.841785\n",
      "7823 2019-06-16  409.260739           Ward  48475.0  XCO2    24  409.260739\n",
      "7824 2019-06-16  408.709632        Winkler  48495.0  XCO2    24  408.709632\n"
     ]
    },
    {
     "name": "stderr",
     "output_type": "stream",
     "text": [
      "127.0.0.1 - - [24/Jul/2020 14:45:53] \"\u001b[37mPOST /_dash-update-component HTTP/1.1\u001b[0m\" 200 -\n"
     ]
    },
    {
     "name": "stdout",
     "output_type": "stream",
     "text": [
      "(1825, 6)\n",
      "           date       value    county     fips   var  week         avg\n",
      "7118 2019-01-02  406.844530    Bailey  48017.0  XCO2     1  408.093084\n",
      "7119 2019-01-02  405.813491   Cochran  48079.0  XCO2     1  408.702085\n",
      "7120 2019-01-02  407.279575    Parmer  48369.0  XCO2     1  408.394981\n",
      "7121 2019-01-03  405.443685    Reagan  48383.0  XCO2     1  408.838207\n",
      "7122 2019-01-04  406.791924  Anderson  48001.0  XCO2     1  408.060134\n",
      "...         ...         ...       ...      ...   ...   ...         ...\n",
      "8515 2019-10-21  406.772307   Grayson  48181.0  XCO2    43  406.772307\n",
      "8690 2019-11-15  408.511057  Angelina  48005.0  XCO2    46  408.511057\n",
      "8692 2019-11-15  409.211294  Franklin  48159.0  XCO2    46  409.211294\n",
      "8694 2019-11-15  406.298433    Hardin  48199.0  XCO2    46  406.298433\n",
      "8705 2019-11-15  407.692922     Tyler  48457.0  XCO2    46  407.692922\n",
      "\n",
      "[247 rows x 7 columns]\n"
     ]
    },
    {
     "name": "stderr",
     "output_type": "stream",
     "text": [
      "127.0.0.1 - - [24/Jul/2020 14:46:00] \"\u001b[37mPOST /_dash-update-component HTTP/1.1\u001b[0m\" 200 -\n"
     ]
    },
    {
     "name": "stdout",
     "output_type": "stream",
     "text": [
      "           date       value     county     fips   var  week         avg\n",
      "0    2015-01-04  397.195098      Bowie  48037.0  XCO2     1  402.672447\n",
      "1    2015-01-04  396.539072       Cass  48067.0  XCO2     1  401.866835\n",
      "2    2015-01-04  396.734640   Harrison  48203.0  XCO2     1  404.414976\n",
      "3    2015-01-04  396.369382     Marion  48315.0  XCO2     1  402.067393\n",
      "4    2015-01-04  395.762778     Morris  48343.0  XCO2     1  405.708273\n",
      "...         ...         ...        ...      ...   ...   ...         ...\n",
      "1774 2016-02-04  402.194975   McMullen  48311.0  XCO2     5  407.764113\n",
      "1916 2016-02-22  396.005300     Dallas  48113.0  XCO2     8  404.462367\n",
      "2231 2016-04-15  401.673337     Scurry  48415.0  XCO2    15  404.443159\n",
      "3102 2016-10-03  398.335460     Brazos  48041.0  XCO2    40  401.643857\n",
      "4005 2017-03-26  404.121492  Childress  48075.0  XCO2    12  408.954055\n",
      "\n",
      "[254 rows x 7 columns]\n"
     ]
    },
    {
     "name": "stderr",
     "output_type": "stream",
     "text": [
      "127.0.0.1 - - [24/Jul/2020 14:46:06] \"\u001b[37mPOST /_dash-update-component HTTP/1.1\u001b[0m\" 200 -\n"
     ]
    },
    {
     "name": "stdout",
     "output_type": "stream",
     "text": [
      "(1825, 6)\n",
      "           date       value    county     fips   var  week         avg\n",
      "7118 2019-01-02  406.844530    Bailey  48017.0  XCO2     1  408.093084\n",
      "7119 2019-01-02  405.813491   Cochran  48079.0  XCO2     1  408.702085\n",
      "7120 2019-01-02  407.279575    Parmer  48369.0  XCO2     1  408.394981\n",
      "7121 2019-01-03  405.443685    Reagan  48383.0  XCO2     1  408.838207\n",
      "7122 2019-01-04  406.791924  Anderson  48001.0  XCO2     1  408.060134\n",
      "...         ...         ...       ...      ...   ...   ...         ...\n",
      "8515 2019-10-21  406.772307   Grayson  48181.0  XCO2    43  406.772307\n",
      "8690 2019-11-15  408.511057  Angelina  48005.0  XCO2    46  408.511057\n",
      "8692 2019-11-15  409.211294  Franklin  48159.0  XCO2    46  409.211294\n",
      "8694 2019-11-15  406.298433    Hardin  48199.0  XCO2    46  406.298433\n",
      "8705 2019-11-15  407.692922     Tyler  48457.0  XCO2    46  407.692922\n",
      "\n",
      "[247 rows x 7 columns]\n"
     ]
    },
    {
     "name": "stderr",
     "output_type": "stream",
     "text": [
      "127.0.0.1 - - [24/Jul/2020 14:46:10] \"\u001b[37mPOST /_dash-update-component HTTP/1.1\u001b[0m\" 200 -\n"
     ]
    },
    {
     "name": "stdout",
     "output_type": "stream",
     "text": [
      "           date       value     county     fips   var  week         avg\n",
      "0    2015-01-04  397.195098      Bowie  48037.0  XCO2     1  402.672447\n",
      "1    2015-01-04  396.539072       Cass  48067.0  XCO2     1  401.866835\n",
      "2    2015-01-04  396.734640   Harrison  48203.0  XCO2     1  404.414976\n",
      "3    2015-01-04  396.369382     Marion  48315.0  XCO2     1  402.067393\n",
      "4    2015-01-04  395.762778     Morris  48343.0  XCO2     1  405.708273\n",
      "...         ...         ...        ...      ...   ...   ...         ...\n",
      "1774 2016-02-04  402.194975   McMullen  48311.0  XCO2     5  407.764113\n",
      "1916 2016-02-22  396.005300     Dallas  48113.0  XCO2     8  404.462367\n",
      "2231 2016-04-15  401.673337     Scurry  48415.0  XCO2    15  404.443159\n",
      "3102 2016-10-03  398.335460     Brazos  48041.0  XCO2    40  401.643857\n",
      "4005 2017-03-26  404.121492  Childress  48075.0  XCO2    12  408.954055\n",
      "\n",
      "[254 rows x 7 columns]\n"
     ]
    },
    {
     "name": "stderr",
     "output_type": "stream",
     "text": [
      "127.0.0.1 - - [24/Jul/2020 14:46:20] \"\u001b[37mPOST /_dash-update-component HTTP/1.1\u001b[0m\" 200 -\n"
     ]
    },
    {
     "name": "stdout",
     "output_type": "stream",
     "text": [
      "(1825, 6)\n",
      "           date       value    county     fips   var  week         avg\n",
      "7118 2019-01-02  406.844530    Bailey  48017.0  XCO2     1  408.093084\n",
      "7119 2019-01-02  405.813491   Cochran  48079.0  XCO2     1  408.702085\n",
      "7120 2019-01-02  407.279575    Parmer  48369.0  XCO2     1  408.394981\n",
      "7121 2019-01-03  405.443685    Reagan  48383.0  XCO2     1  408.838207\n",
      "7122 2019-01-04  406.791924  Anderson  48001.0  XCO2     1  408.060134\n",
      "...         ...         ...       ...      ...   ...   ...         ...\n",
      "8515 2019-10-21  406.772307   Grayson  48181.0  XCO2    43  406.772307\n",
      "8690 2019-11-15  408.511057  Angelina  48005.0  XCO2    46  408.511057\n",
      "8692 2019-11-15  409.211294  Franklin  48159.0  XCO2    46  409.211294\n",
      "8694 2019-11-15  406.298433    Hardin  48199.0  XCO2    46  406.298433\n",
      "8705 2019-11-15  407.692922     Tyler  48457.0  XCO2    46  407.692922\n",
      "\n",
      "[247 rows x 7 columns]\n",
      "(1825, 6)\n",
      "           date       value    county     fips   var  week         avg\n",
      "7118 2019-01-02  406.844530    Bailey  48017.0  XCO2     1  408.093084\n",
      "7119 2019-01-02  405.813491   Cochran  48079.0  XCO2     1  408.702085\n",
      "7120 2019-01-02  407.279575    Parmer  48369.0  XCO2     1  408.394981\n",
      "7121 2019-01-03  405.443685    Reagan  48383.0  XCO2     1  408.838207\n",
      "7122 2019-01-04  406.791924  Anderson  48001.0  XCO2     1  408.060134\n",
      "...         ...         ...       ...      ...   ...   ...         ...\n",
      "8515 2019-10-21  406.772307   Grayson  48181.0  XCO2    43  406.772307\n",
      "8690 2019-11-15  408.511057  Angelina  48005.0  XCO2    46  408.511057\n",
      "8692 2019-11-15  409.211294  Franklin  48159.0  XCO2    46  409.211294\n",
      "8694 2019-11-15  406.298433    Hardin  48199.0  XCO2    46  406.298433\n",
      "8705 2019-11-15  407.692922     Tyler  48457.0  XCO2    46  407.692922\n",
      "\n",
      "[247 rows x 7 columns]\n"
     ]
    },
    {
     "name": "stderr",
     "output_type": "stream",
     "text": [
      "127.0.0.1 - - [24/Jul/2020 14:46:25] \"\u001b[37mPOST /_dash-update-component HTTP/1.1\u001b[0m\" 200 -\n",
      "127.0.0.1 - - [24/Jul/2020 14:46:27] \"\u001b[37mPOST /_dash-update-component HTTP/1.1\u001b[0m\" 200 -\n"
     ]
    }
   ],
   "source": [
    "\n",
    "\n",
    "external_stylesheets = ['https://codepen.io/chriddyp/pen/bWLwgP.css']\n",
    "\n",
    "app = dash.Dash(__name__, external_stylesheets=external_stylesheets)\n",
    "\n",
    "app.layout = html.Div([\n",
    "    html.Button('Weekly average', id='Weekly', n_clicks=0),\n",
    "    html.Button('Monthly average', id='Monthly', n_clicks=0),\n",
    "    html.Button('Yearly average', id='Yearly', n_clicks=0),\n",
    "    html.Div(id='container-button-timestamp'),\n",
    "    \n",
    "    dcc.DatePickerSingle(\n",
    "        id='my-date-picker-single',\n",
    "        min_date_allowed=dt(2015, 1, 1),\n",
    "        max_date_allowed=dt(2020, 7, 1),\n",
    "        initial_visible_month=dt(2019, 6, 14),\n",
    "        date=str(dt(2019, 6, 14))\n",
    "    ),\n",
    "    \n",
    "    \n",
    "    html.Div([\n",
    "        dcc.Graph(id='the_graph')\n",
    "    ]),\n",
    "    \n",
    "    \n",
    "    dcc.Dropdown(id=\"slct_var\",\n",
    "                 options=[\n",
    "                     {\"label\": \"Greenhouse Gas - XCO2\", \"value\": \"XCO2\"},\n",
    "                     {\"label\": \"Greenhouse Gas - XCH4\", \"value\": \"XCH4\"},\n",
    "                     {\"label\": \"Air Quality - NO2\", \"value\": \"NO2\"},\n",
    "                     {\"label\": \"Air Quality - PM2.5\", \"value\": \"PM2.5\"},\n",
    "                     {\"label\": \"Water Quality - Dissolved Oxygen\", \"value\": 'Dissolved oxygen (DO)'},\n",
    "                     {\"label\": \"Water Quality - Orthophosphate\", \"value\": \"Orthophosphate\"},\n",
    "                     {\"label\": \"Water Quality - pH\", \"value\": \"pH\"},\n",
    "                     {\"label\": \"Water Quality - Sulfate\", \"value\": \"Sulfate\"},\n",
    "                     {\"label\": \"Water Quality - Chloride\", \"value\": \"Chloride\"},\n",
    "                     {\"label\": \"COVID Cases\", \"value\": \"COVID Cases\"}\n",
    "                 ],\n",
    "                 multi=False,\n",
    "                 value=\"XCH4\",\n",
    "                 style={'width': \"40%\"}\n",
    "                 ),\n",
    "\n",
    "    html.Div(id=\"dropdown-content\")\n",
    "    \n",
    "])\n",
    "\n",
    "\n",
    "\n",
    "# Weekly Monthly Yearly Graph=======================\n",
    "\n",
    "@app.callback(Output(component_id='the_graph', component_property='figure'),\n",
    "              #Output('container-button-timestamp', 'children'),\n",
    "              [Input('Weekly', 'n_clicks'),\n",
    "               Input('Monthly', 'n_clicks'),\n",
    "               Input('Yearly', 'n_clicks'),\n",
    "              Input('my-date-picker-single', 'date'),\n",
    "               Input('slct_var','value')\n",
    "              \n",
    "              ])\n",
    "def displayClick(btn1, btn2, btn3,date, option_var):\n",
    "    changed_id = [p['prop_id'] for p in dash.callback_context.triggered][0]\n",
    "    temp = df.loc[df['var'] == 'XCO2']\n",
    "    date = dt.strptime(re.split('T| ', date)[0], '%Y-%m-%d')\n",
    "    week_num = date.isocalendar()[1]\n",
    "    temp['date'] = pd.to_datetime(temp['date'])\n",
    "    temp['week'] = temp['date'].dt.week\n",
    "    \n",
    "    if 'Weekly' in changed_id:\n",
    "        temp  = temp.loc[((temp['week'] == week_num) & (temp['date'].dt.month == date.month) &(temp['date'].dt.year == date.year)),:]\n",
    "        print(temp.shape)\n",
    "    elif 'Monthly' in changed_id:\n",
    "        temp  = temp.loc[((temp['date'].dt.month == date.month)& (temp['date'].dt.year == date.year)),:]\n",
    "        print(temp.shape)\n",
    "    elif 'Yearly' in changed_id:\n",
    "        temp  = temp.loc[temp['date'].dt.year == date.year,:]\n",
    "        print(temp.shape)\n",
    "    \n",
    "    temp['avg'] = temp['value'].groupby([temp['fips']]).transform('mean')\n",
    "    temp = temp.drop_duplicates(subset=['fips','avg'],keep = 'first')  \n",
    "    print(temp)    \n",
    "    \n",
    "    \n",
    "    trace= go.Choroplethmapbox(geojson = counties,\n",
    "                               locations = temp['fips'],\n",
    "                               z = temp['avg'],\n",
    "                               colorscale='hot',\n",
    "                               reversescale = True,\n",
    "                               colorbar_thickness=20,\n",
    "                               text = temp['county'],\n",
    "                               marker_line_color='white',\n",
    "                               customdata = temp['fips'],\n",
    "                               hovertemplate = '<b>County</b>: <b>%{text}</b>'+\n",
    "                                                 '<br> <b>Val </b>: %{z}<br>'+ '<extra></extra>' \n",
    "                            )\n",
    "    \n",
    "    fig= go.Figure(data = trace)\n",
    "    mapboxt = 'pk.eyJ1IjoiY2hyaWRkeXAiLCJhIjoiY2ozcGI1MTZ3MDBpcTJ3cXR4b3owdDQwaCJ9.8jpMunbKjdq1anXwU5gxIw'\n",
    "\n",
    "    fig.update_layout(title_text= 'Texas Heatmap',\n",
    "                      title_x=0.5, width = 700, height=700,\n",
    "                      mapbox = dict(center= dict(lat=31.3915,  lon=-99.1707),\n",
    "                                     accesstoken= mapboxt,style = 'basic',\n",
    "                                     zoom=4.5,\n",
    "                                   ),\n",
    "                     clickmode='event+select'\n",
    "                     );\n",
    "\n",
    "    \n",
    "    return fig\n",
    "\n",
    "\n",
    "\n",
    "\n",
    "\n",
    "if __name__ == '__main__':\n",
    "    app.run_server()"
   ]
  },
  {
   "cell_type": "code",
   "execution_count": null,
   "metadata": {
    "scrolled": true
   },
   "outputs": [],
   "source": []
  },
  {
   "cell_type": "code",
   "execution_count": null,
   "metadata": {},
   "outputs": [],
   "source": []
  }
 ],
 "metadata": {
  "kernelspec": {
   "display_name": "Python 3",
   "language": "python",
   "name": "python3"
  },
  "language_info": {
   "codemirror_mode": {
    "name": "ipython",
    "version": 3
   },
   "file_extension": ".py",
   "mimetype": "text/x-python",
   "name": "python",
   "nbconvert_exporter": "python",
   "pygments_lexer": "ipython3",
   "version": "3.7.6"
  }
 },
 "nbformat": 4,
 "nbformat_minor": 4
}
